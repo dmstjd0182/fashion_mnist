{
 "cells": [
  {
   "cell_type": "markdown",
   "id": "b3eac3c0",
   "metadata": {},
   "source": [
    "# Setup"
   ]
  },
  {
   "cell_type": "code",
   "execution_count": 60,
   "id": "097bae1c",
   "metadata": {},
   "outputs": [],
   "source": [
    "import matplotlib.pyplot as plt\n",
    "import torch\n",
    "import torchvision\n",
    "import torch.nn.functional as F\n",
    "from torch import nn\n",
    "from torch import optim\n",
    "from torchvision import datasets\n",
    "from torchvision.transforms import ToTensor\n",
    "from torch.utils.data import DataLoader"
   ]
  },
  {
   "cell_type": "code",
   "execution_count": 78,
   "id": "4019a922",
   "metadata": {},
   "outputs": [],
   "source": [
    "from torch.utils.tensorboard import SummaryWriter\n",
    "\n",
    "writer = SummaryWriter('runs/fashion_mnist_experiment_1')"
   ]
  },
  {
   "cell_type": "code",
   "execution_count": 79,
   "id": "9a4511ab",
   "metadata": {},
   "outputs": [
    {
     "data": {
      "text/plain": [
       "'mps'"
      ]
     },
     "execution_count": 79,
     "metadata": {},
     "output_type": "execute_result"
    }
   ],
   "source": [
    "device = 'mps' if torch.backends.mps.is_available() else 'cpu'\n",
    "device"
   ]
  },
  {
   "cell_type": "markdown",
   "id": "e9724a27",
   "metadata": {},
   "source": [
    "# Hyperparameters"
   ]
  },
  {
   "cell_type": "code",
   "execution_count": 80,
   "id": "d0e29f0b",
   "metadata": {},
   "outputs": [],
   "source": [
    "learning_rate = 1e-3\n",
    "batch_size = 64\n",
    "epochs = 10"
   ]
  },
  {
   "cell_type": "markdown",
   "id": "34425cac",
   "metadata": {},
   "source": [
    "# Load datasets and loaders"
   ]
  },
  {
   "cell_type": "code",
   "execution_count": 81,
   "id": "4e990a20",
   "metadata": {
    "scrolled": true
   },
   "outputs": [],
   "source": [
    "# constant for classes\n",
    "classes = ('T-shirt/top', 'Trouser', 'Pullover', 'Dress', 'Coat',\n",
    "        'Sandal', 'Shirt', 'Sneaker', 'Bag', 'Ankle Boot')\n",
    "\n",
    "train_data = datasets.FashionMNIST(\n",
    "    root='data',\n",
    "    train=True,\n",
    "    download=True,\n",
    "    transform=ToTensor()\n",
    ")\n",
    "test_data = datasets.FashionMNIST(\n",
    "    root='data',\n",
    "    train=False,\n",
    "    download=True,\n",
    "    transform=ToTensor()\n",
    ")"
   ]
  },
  {
   "cell_type": "code",
   "execution_count": 82,
   "id": "c7311684",
   "metadata": {},
   "outputs": [
    {
     "name": "stdout",
     "output_type": "stream",
     "text": [
      "torch.Size([60000, 28, 28])\n",
      "torch.Size([60000])\n"
     ]
    }
   ],
   "source": [
    "print(train_data.data.shape)\n",
    "print(train_data.targets.shape)"
   ]
  },
  {
   "cell_type": "code",
   "execution_count": 83,
   "id": "b59bc4f4",
   "metadata": {},
   "outputs": [],
   "source": [
    "train_dataloader = DataLoader(train_data, batch_size=batch_size)\n",
    "test_dataloader = DataLoader(test_data, batch_size=batch_size)"
   ]
  },
  {
   "cell_type": "markdown",
   "id": "c6b2d51f",
   "metadata": {},
   "source": [
    "# Build Model"
   ]
  },
  {
   "cell_type": "code",
   "execution_count": 84,
   "id": "30137c55",
   "metadata": {},
   "outputs": [],
   "source": [
    "class NeuralNetwork(nn.Module):\n",
    "    def __init__(self):\n",
    "        super(NeuralNetwork, self).__init__()\n",
    "        \n",
    "        self.conv_and_relu_stack = nn.Sequential(\n",
    "            nn.Conv2d(1, 32, 3, 1),\n",
    "            nn.ReLU(),\n",
    "            nn.Conv2d(32, 64, 3, 1),\n",
    "            nn.ReLU(),\n",
    "        )\n",
    "        self.max_pool = nn.MaxPool2d(2)\n",
    "        self.dropout1 = nn.Dropout(0.25)\n",
    "        self.flatten = nn.Flatten()\n",
    "        self.fc_layers = nn.Sequential(\n",
    "            nn.Linear(9216, 128),\n",
    "            nn.ReLU(),\n",
    "            nn.Dropout(0.5),\n",
    "            nn.Linear(128, 10),\n",
    "        )\n",
    "#         self.log_softmax = nn.LogSoftmax(1)\n",
    "        \n",
    "    def forward(self, x):\n",
    "        x = self.conv_and_relu_stack(x)\n",
    "        x = self.max_pool(x)\n",
    "        x = self.dropout1(x)\n",
    "        x = self.flatten(x)\n",
    "        output = self.fc_layers(x)\n",
    "        return output"
   ]
  },
  {
   "cell_type": "code",
   "execution_count": 85,
   "id": "338a8228",
   "metadata": {},
   "outputs": [
    {
     "data": {
      "text/plain": [
       "NeuralNetwork(\n",
       "  (conv_and_relu_stack): Sequential(\n",
       "    (0): Conv2d(1, 32, kernel_size=(3, 3), stride=(1, 1))\n",
       "    (1): ReLU()\n",
       "    (2): Conv2d(32, 64, kernel_size=(3, 3), stride=(1, 1))\n",
       "    (3): ReLU()\n",
       "  )\n",
       "  (max_pool): MaxPool2d(kernel_size=2, stride=2, padding=0, dilation=1, ceil_mode=False)\n",
       "  (dropout1): Dropout(p=0.25, inplace=False)\n",
       "  (flatten): Flatten(start_dim=1, end_dim=-1)\n",
       "  (fc_layers): Sequential(\n",
       "    (0): Linear(in_features=9216, out_features=128, bias=True)\n",
       "    (1): ReLU()\n",
       "    (2): Dropout(p=0.5, inplace=False)\n",
       "    (3): Linear(in_features=128, out_features=10, bias=True)\n",
       "  )\n",
       ")"
      ]
     },
     "execution_count": 85,
     "metadata": {},
     "output_type": "execute_result"
    }
   ],
   "source": [
    "model = NeuralNetwork().to(device)\n",
    "model"
   ]
  },
  {
   "cell_type": "code",
   "execution_count": 86,
   "id": "8a71d7f6",
   "metadata": {},
   "outputs": [],
   "source": [
    "loss_fn = nn.CrossEntropyLoss()\n",
    "optimizer = optim.SGD(model.parameters(), lr=learning_rate)"
   ]
  },
  {
   "cell_type": "markdown",
   "id": "8688f31e",
   "metadata": {},
   "source": [
    "# Optimization Loop"
   ]
  },
  {
   "cell_type": "code",
   "execution_count": 87,
   "id": "ff548e60",
   "metadata": {},
   "outputs": [],
   "source": [
    "def train_loop(dataloader, model, loss_fn, optimizer):\n",
    "    size = len(dataloader.dataset)\n",
    "    for batch, (X, y) in enumerate(dataloader):\n",
    "        X, y = X.to(device), y.to(device)\n",
    "        # Compute prediction and loss\n",
    "        pred = F.log_softmax(model(X), dim=1)\n",
    "        loss = loss_fn(pred, y)\n",
    "        \n",
    "        # Backpropagation\n",
    "        optimizer.zero_grad()\n",
    "        loss.backward()\n",
    "        optimizer.step()\n",
    "        \n",
    "        if batch % 100 == 0:\n",
    "            loss, current = loss.item(), (batch + 1) * len(X)\n",
    "            print(f\"loss: {loss:>7f}  [{current:>5d}/{size:>5d}]\")\n",
    "\n",
    "            \n",
    "def test_loop(dataloader, model, loss_fn, optimizer, epoch):\n",
    "    size = len(dataloader.dataset)\n",
    "    num_batches = len(dataloader)\n",
    "    test_loss, correct = 0, 0\n",
    "    \n",
    "    with torch.no_grad():\n",
    "        for X, y in dataloader:\n",
    "            X, y = X.to(device), y.to(device)\n",
    "            pred = F.log_softmax(model(X), dim=1)\n",
    "            test_loss += loss_fn(pred, y).item()\n",
    "            correct += (pred.argmax(1) == y).type(torch.float).sum().item()\n",
    "    \n",
    "    test_loss /= num_batches\n",
    "    correct /= size\n",
    "    print(f\"Test error: \\n Accuracy: {(100*correct):>0.1f}%, Avg_loss: {test_loss:>8f} \\n\")\n",
    "    writer.add_scalar(\n",
    "        'test loss',\n",
    "        test_loss,\n",
    "        epoch * num_batches\n",
    "    )\n",
    "    writer.add_scalar(\n",
    "        'Accuracy(%)',\n",
    "        correct * 100,\n",
    "        epoch * num_batches\n",
    "    )"
   ]
  },
  {
   "cell_type": "code",
   "execution_count": 88,
   "id": "68e2dd8b",
   "metadata": {
    "scrolled": true
   },
   "outputs": [
    {
     "name": "stdout",
     "output_type": "stream",
     "text": [
      "Epoch 1\n",
      "-------------------------\n",
      "loss: 2.298680  [   64/60000]\n",
      "loss: 2.288710  [ 6464/60000]\n",
      "loss: 2.267956  [12864/60000]\n",
      "loss: 2.253999  [19264/60000]\n",
      "loss: 2.243592  [25664/60000]\n",
      "loss: 2.183565  [32064/60000]\n",
      "loss: 2.176945  [38464/60000]\n",
      "loss: 2.072713  [44864/60000]\n",
      "loss: 2.041702  [51264/60000]\n",
      "loss: 1.921990  [57664/60000]\n",
      "Test error: \n",
      " Accuracy: 43.3%, Avg_loss: 1.887127 \n",
      "\n",
      "Epoch 2\n",
      "-------------------------\n",
      "loss: 1.905268  [   64/60000]\n",
      "loss: 1.813328  [ 6464/60000]\n",
      "loss: 1.539150  [12864/60000]\n",
      "loss: 1.553203  [19264/60000]\n",
      "loss: 1.338171  [25664/60000]\n",
      "loss: 1.288636  [32064/60000]\n",
      "loss: 1.299567  [38464/60000]\n",
      "loss: 1.115200  [44864/60000]\n",
      "loss: 1.264999  [51264/60000]\n",
      "loss: 1.163742  [57664/60000]\n",
      "Test error: \n",
      " Accuracy: 61.0%, Avg_loss: 1.092618 \n",
      "\n",
      "Epoch 3\n",
      "-------------------------\n",
      "loss: 1.088454  [   64/60000]\n",
      "loss: 1.180254  [ 6464/60000]\n",
      "loss: 0.934815  [12864/60000]\n",
      "loss: 1.112937  [19264/60000]\n",
      "loss: 1.006811  [25664/60000]\n",
      "loss: 0.899252  [32064/60000]\n",
      "loss: 1.014826  [38464/60000]\n",
      "loss: 0.857956  [44864/60000]\n",
      "loss: 0.919574  [51264/60000]\n",
      "loss: 1.055238  [57664/60000]\n",
      "Test error: \n",
      " Accuracy: 68.1%, Avg_loss: 0.887477 \n",
      "\n",
      "Epoch 4\n",
      "-------------------------\n",
      "loss: 0.869939  [   64/60000]\n",
      "loss: 0.940373  [ 6464/60000]\n",
      "loss: 0.641410  [12864/60000]\n",
      "loss: 0.958782  [19264/60000]\n",
      "loss: 0.842553  [25664/60000]\n",
      "loss: 0.864981  [32064/60000]\n",
      "loss: 0.871781  [38464/60000]\n",
      "loss: 0.764998  [44864/60000]\n",
      "loss: 0.819171  [51264/60000]\n",
      "loss: 0.952641  [57664/60000]\n",
      "Test error: \n",
      " Accuracy: 70.5%, Avg_loss: 0.811731 \n",
      "\n",
      "Epoch 5\n",
      "-------------------------\n",
      "loss: 0.692102  [   64/60000]\n",
      "loss: 0.744519  [ 6464/60000]\n",
      "loss: 0.603342  [12864/60000]\n",
      "loss: 0.856338  [19264/60000]\n",
      "loss: 0.757975  [25664/60000]\n",
      "loss: 0.838270  [32064/60000]\n",
      "loss: 0.864209  [38464/60000]\n",
      "loss: 0.793794  [44864/60000]\n",
      "loss: 0.784718  [51264/60000]\n",
      "loss: 0.715668  [57664/60000]\n",
      "Test error: \n",
      " Accuracy: 72.5%, Avg_loss: 0.750169 \n",
      "\n",
      "Epoch 6\n",
      "-------------------------\n",
      "loss: 0.602974  [   64/60000]\n",
      "loss: 0.795771  [ 6464/60000]\n",
      "loss: 0.514594  [12864/60000]\n",
      "loss: 0.856669  [19264/60000]\n",
      "loss: 0.638823  [25664/60000]\n",
      "loss: 0.682219  [32064/60000]\n",
      "loss: 0.809715  [38464/60000]\n",
      "loss: 0.614113  [44864/60000]\n",
      "loss: 0.759021  [51264/60000]\n",
      "loss: 0.857646  [57664/60000]\n",
      "Test error: \n",
      " Accuracy: 74.1%, Avg_loss: 0.714907 \n",
      "\n",
      "Epoch 7\n",
      "-------------------------\n",
      "loss: 0.646463  [   64/60000]\n",
      "loss: 0.696374  [ 6464/60000]\n",
      "loss: 0.516814  [12864/60000]\n",
      "loss: 0.733442  [19264/60000]\n",
      "loss: 0.659340  [25664/60000]\n",
      "loss: 0.727972  [32064/60000]\n",
      "loss: 0.710130  [38464/60000]\n",
      "loss: 0.690630  [44864/60000]\n",
      "loss: 0.687901  [51264/60000]\n",
      "loss: 0.762143  [57664/60000]\n",
      "Test error: \n",
      " Accuracy: 74.5%, Avg_loss: 0.687094 \n",
      "\n",
      "Epoch 8\n",
      "-------------------------\n",
      "loss: 0.570427  [   64/60000]\n",
      "loss: 0.776707  [ 6464/60000]\n",
      "loss: 0.457300  [12864/60000]\n",
      "loss: 0.820561  [19264/60000]\n",
      "loss: 0.672521  [25664/60000]\n",
      "loss: 0.686771  [32064/60000]\n",
      "loss: 0.673643  [38464/60000]\n",
      "loss: 0.611076  [44864/60000]\n",
      "loss: 0.749232  [51264/60000]\n",
      "loss: 0.668002  [57664/60000]\n",
      "Test error: \n",
      " Accuracy: 75.2%, Avg_loss: 0.668564 \n",
      "\n",
      "Epoch 9\n",
      "-------------------------\n",
      "loss: 0.566025  [   64/60000]\n",
      "loss: 0.700930  [ 6464/60000]\n",
      "loss: 0.441268  [12864/60000]\n",
      "loss: 0.763229  [19264/60000]\n",
      "loss: 0.659434  [25664/60000]\n",
      "loss: 0.708112  [32064/60000]\n",
      "loss: 0.716911  [38464/60000]\n",
      "loss: 0.602858  [44864/60000]\n",
      "loss: 0.613154  [51264/60000]\n",
      "loss: 0.682236  [57664/60000]\n",
      "Test error: \n",
      " Accuracy: 75.8%, Avg_loss: 0.656103 \n",
      "\n",
      "Epoch 10\n",
      "-------------------------\n",
      "loss: 0.542506  [   64/60000]\n",
      "loss: 0.687532  [ 6464/60000]\n",
      "loss: 0.482294  [12864/60000]\n",
      "loss: 0.745954  [19264/60000]\n",
      "loss: 0.727540  [25664/60000]\n",
      "loss: 0.759017  [32064/60000]\n",
      "loss: 0.713009  [38464/60000]\n",
      "loss: 0.659667  [44864/60000]\n",
      "loss: 0.675658  [51264/60000]\n",
      "loss: 0.737586  [57664/60000]\n",
      "Test error: \n",
      " Accuracy: 76.3%, Avg_loss: 0.643293 \n",
      "\n",
      "Done!\n"
     ]
    }
   ],
   "source": [
    "for epoch in range(epochs):\n",
    "    print(f\"Epoch {epoch+1}\\n-------------------------\")\n",
    "    train_loop(train_dataloader, model, loss_fn, optimizer)\n",
    "    test_loop(test_dataloader, model, loss_fn, optimizer, epoch)\n",
    "print(\"Done!\")"
   ]
  },
  {
   "cell_type": "code",
   "execution_count": null,
   "id": "875b9d9b",
   "metadata": {},
   "outputs": [],
   "source": []
  },
  {
   "cell_type": "markdown",
   "id": "275f16ff",
   "metadata": {},
   "source": [
    "# Visualizing with Tensorboard"
   ]
  },
  {
   "cell_type": "code",
   "execution_count": 51,
   "id": "9a5ec414",
   "metadata": {},
   "outputs": [],
   "source": [
    "# helper function to show an image\n",
    "# (used in the `plot_classes_preds` function below)\n",
    "def matplotlib_imshow(img, one_channel=False):\n",
    "    if one_channel:\n",
    "        img = img.mean(dim=0)\n",
    "    npimg = img.numpy()\n",
    "    if one_channel:\n",
    "        plt.imshow(npimg, cmap=\"Greys\")\n",
    "    else:\n",
    "        plt.imshow(np.transpose(npimg, (1, 2, 0)))"
   ]
  },
  {
   "cell_type": "markdown",
   "id": "e920422b",
   "metadata": {},
   "source": [
    "# Image"
   ]
  },
  {
   "cell_type": "code",
   "execution_count": 52,
   "id": "ad8efbc3",
   "metadata": {},
   "outputs": [
    {
     "data": {
      "image/png": "[encoded data removed]",
      "text/plain": [
       "<Figure size 640x480 with 1 Axes>"
      ]
     },
     "metadata": {
      "image/png": {
       "height": 418,
       "width": 425
      }
     },
     "output_type": "display_data"
    }
   ],
   "source": [
    "dataiter = iter(train_dataloader)\n",
    "images, labels = next(dataiter)\n",
    "\n",
    "img_grid = torchvision.utils.make_grid(images)\n",
    "\n",
    "matplotlib_imshow(img_grid, one_channel=True)\n",
    "\n",
    "writer.add_image('four_fashion_mnist_images', img_grid)"
   ]
  },
  {
   "cell_type": "markdown",
   "id": "ac8888a4",
   "metadata": {},
   "source": [
    "# Graph"
   ]
  },
  {
   "cell_type": "code",
   "execution_count": 53,
   "id": "6fa78119",
   "metadata": {},
   "outputs": [],
   "source": [
    "writer.add_graph(model, images.to(device))\n",
    "writer.close()"
   ]
  },
  {
   "cell_type": "markdown",
   "id": "e016f10b",
   "metadata": {},
   "source": [
    "# Projector"
   ]
  },
  {
   "cell_type": "code",
   "execution_count": 54,
   "id": "49d1243e",
   "metadata": {},
   "outputs": [],
   "source": [
    "# helper function\n",
    "def select_n_random(data, labels, n=100):\n",
    "    '''\n",
    "    Selects n random datapoints and their corresponding labels from a dataset\n",
    "    '''\n",
    "    assert len(data) == len(labels)\n",
    "\n",
    "    perm = torch.randperm(len(data))\n",
    "    return data[perm][:n], labels[perm][:n]\n",
    "\n",
    "# select random images and their target indices\n",
    "images, labels = select_n_random(train_data.data, train_data.targets)\n",
    "\n",
    "# get the class labels for each image\n",
    "class_labels = [classes[lab] for lab in labels]\n",
    "\n",
    "# log embeddings\n",
    "features = images.view(-1, 28 * 28)\n",
    "writer.add_embedding(features,\n",
    "                    metadata=class_labels,\n",
    "                    label_img=images.unsqueeze(1))\n",
    "writer.close()"
   ]
  },
  {
   "cell_type": "markdown",
   "id": "016bcccf",
   "metadata": {},
   "source": [
    "# PR Curves"
   ]
  },
  {
   "cell_type": "code",
   "execution_count": 89,
   "id": "47dadc14",
   "metadata": {},
   "outputs": [
    {
     "name": "stdout",
     "output_type": "stream",
     "text": [
      "torch.Size([10000, 10])\n",
      "torch.Size([10000])\n"
     ]
    }
   ],
   "source": [
    "# 1. gets the probability predictions in a test_size x num_classes Tensor\n",
    "# 2. gets the preds in a test_size Tensor\n",
    "# takes ~10 seconds to run\n",
    "class_probs = []\n",
    "class_label = []\n",
    "with torch.no_grad():\n",
    "    for images, labels in test_dataloader:\n",
    "        images, labels = images.to(device), labels.to(device)\n",
    "        class_probs_batch = F.softmax(model(images), dim=1)\n",
    "\n",
    "        class_probs.append(class_probs_batch)\n",
    "        class_label.append(labels)\n",
    "\n",
    "test_probs = torch.cat(class_probs)\n",
    "test_label = torch.cat(class_label)\n",
    "\n",
    "print(test_probs.shape)\n",
    "print(test_label.shape)"
   ]
  },
  {
   "cell_type": "code",
   "execution_count": 90,
   "id": "b1f5b376",
   "metadata": {},
   "outputs": [
    {
     "data": {
      "text/plain": [
       "tensor([[8.6038e-06, 1.6351e-07, 9.4796e-07,  ..., 4.7918e-01, 2.1797e-03,\n",
       "         4.9604e-01],\n",
       "        [2.1688e-02, 8.8710e-07, 7.1109e-01,  ..., 3.9442e-07, 8.3702e-06,\n",
       "         8.1034e-07],\n",
       "        [1.6738e-04, 9.9917e-01, 3.4318e-06,  ..., 8.5449e-08, 8.4329e-07,\n",
       "         3.3434e-09],\n",
       "        ...,\n",
       "        [1.4066e-01, 2.1168e-03, 3.7101e-02,  ..., 2.8123e-03, 5.9777e-01,\n",
       "         4.9633e-03],\n",
       "        [2.1157e-06, 9.9520e-01, 1.1094e-07,  ..., 2.3975e-05, 4.4443e-08,\n",
       "         3.6858e-06],\n",
       "        [2.8626e-05, 1.8130e-06, 7.0202e-05,  ..., 2.1487e-01, 3.4744e-03,\n",
       "         1.7519e-02]], device='mps:0')"
      ]
     },
     "execution_count": 90,
     "metadata": {},
     "output_type": "execute_result"
    }
   ],
   "source": [
    "test_probs"
   ]
  },
  {
   "cell_type": "code",
   "execution_count": 91,
   "id": "0a879758",
   "metadata": {},
   "outputs": [],
   "source": [
    "# helper function\n",
    "def add_pr_curve_tensorboard(class_index, test_probs, test_label, global_step=0):\n",
    "    '''\n",
    "    Takes in a \"class_index\" from 0 to 9 and plots the corresponding\n",
    "    precision-recall curve\n",
    "    '''\n",
    "    tensorboard_truth = test_label == class_index\n",
    "    tensorboard_probs = test_probs[:, class_index]\n",
    "\n",
    "    writer.add_pr_curve(\n",
    "        classes[class_index],\n",
    "        tensorboard_truth,\n",
    "        tensorboard_probs,\n",
    "        global_step=global_step,\n",
    "    )\n",
    "    writer.close()\n",
    "\n",
    "# plot all the pr curves\n",
    "for i in range(len(classes)):\n",
    "    add_pr_curve_tensorboard(i, test_probs, test_label)"
   ]
  },
  {
   "cell_type": "code",
   "execution_count": null,
   "id": "3a04a185",
   "metadata": {},
   "outputs": [],
   "source": []
  }
 ],
 "metadata": {
  "kernelspec": {
   "display_name": "base",
   "language": "python",
   "name": "python3"
  },
  "language_info": {
   "codemirror_mode": {
    "name": "ipython",
    "version": 3
   },
   "file_extension": ".py",
   "mimetype": "text/x-python",
   "name": "python",
   "nbconvert_exporter": "python",
   "pygments_lexer": "ipython3",
   "version": "3.9.13"
  },
  "vscode": {
   "interpreter": {
    "hash": "399d81f7897541bb1d1bf463aadd2cce5d21a75122ecd4da13218b176efc1e17"
   }
  }
 },
 "nbformat": 4,
 "nbformat_minor": 5
}
